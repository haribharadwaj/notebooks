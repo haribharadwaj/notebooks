{
  "nbformat": 4,
  "nbformat_minor": 0,
  "metadata": {
    "colab": {
      "provenance": [],
      "authorship_tag": "ABX9TyMTDyL4lNsSu63VD+NCZ4ri",
      "include_colab_link": true
    },
    "kernelspec": {
      "name": "python3",
      "display_name": "Python 3"
    },
    "language_info": {
      "name": "python"
    }
  },
  "cells": [
    {
      "cell_type": "markdown",
      "metadata": {
        "id": "view-in-github",
        "colab_type": "text"
      },
      "source": [
        "<a href=\"https://colab.research.google.com/github/haribharadwaj/notebooks/blob/main/AUDIOLOGY/AEPanalysis.ipynb\" target=\"_parent\"><img src=\"https://colab.research.google.com/assets/colab-badge.svg\" alt=\"Open In Colab\"/></a>"
      ]
    },
    {
      "cell_type": "markdown",
      "source": [
        "# Auditory Neural Response Analysis\n",
        "\n",
        "In this notebook, we will:\n",
        "1. Load neural response data from an Excel file hosted on Dropbox, where the first column is time.\n",
        "2. Randomly select one participant’s data for each run.\n",
        "3. Set various parameters (filter type, cutoff frequencies, time window) -- **you can change this emphasize ABRs, MLRs, or later cortical responses!**\n",
        "4. Filter and plot the data.\n",
        "\n",
        "We assume the first column in the spreadsheet is called something like \"Time\" (in ms or s),\n",
        "and the subsequent columns are participant response waveforms.\n",
        "\n",
        "For more background on filtering and auditory evoked potentials, see:\n",
        "- Picton, T. W. (2011). *Human auditory evoked potentials*. Plural Publishing.\n"
      ],
      "metadata": {
        "id": "yeYTLZCJjG2x"
      }
    },
    {
      "cell_type": "code",
      "execution_count": null,
      "metadata": {
        "cellView": "form",
        "id": "UYCtWtx_jGLj"
      },
      "outputs": [],
      "source": [
        "#@title Run this to import some code libraries and load the data\n",
        "import numpy as np\n",
        "import pandas as pd\n",
        "import matplotlib.pyplot as plt\n",
        "from scipy.signal import butter, filtfilt, firwin\n",
        "\n",
        "# If running in Jupyter, enable inline plotting\n",
        "%matplotlib inline\n",
        "\n",
        "# --- DATA LOADING CELL ---\n",
        "dropbox_url = 'https://www.dropbox.com/scl/fi/pamqgiibn5lo69bp5okhw/ABRMLRAEP_Rawtraces.xlsx?rlkey=hna569bokwyfhkn96pj6tw1l6&st=poj1k8pv&dl=1'\n",
        "\n",
        "# Read the Excel file directly from the Dropbox link.\n",
        "# The '?dl=1' at the end ensures a direct download.\n",
        "df = pd.read_excel(dropbox_url)\n",
        "\n",
        "print(\"Data loaded successfully!\")\n",
        "print(\"DataFrame shape:\", df.shape)\n",
        "print(\"Columns in the DataFrame:\", df.columns.tolist())\n",
        "df.head()\n"
      ]
    },
    {
      "cell_type": "markdown",
      "source": [
        "# Filter Parameters and Time Window\n",
        "\n",
        "We will define:\n",
        "1. The filter type: 'fir1' (FIR with Blackman window) or 'iir' (Butterworth).\n",
        "2. The lower and upper cutoff frequencies (in Hz).\n",
        "3. The time window (in the same units as your time column).\n"
      ],
      "metadata": {
        "id": "AGG3XZizjyGl"
      }
    },
    {
      "cell_type": "markdown",
      "source": [
        "# How to change parameters\n",
        "\n",
        "- **Changing Filter Parameters**: Adjust `low_cutoff`, `high_cutoff`, and `filter_type` in the FILTER PARAMETER CELL.\n",
        "- **Changing Time Window**: Adjust `start_time` and `end_time` in the TIME WINDOW CELL.\n"
      ],
      "metadata": {
        "id": "e0VK8ZTVtqRi"
      }
    },
    {
      "cell_type": "code",
      "source": [
        "# --- FILTER PARAMETER CELL ---\n",
        "\n",
        "filter_type = 'fir1'  # Options: 'fir1' or 'iir'\n",
        "\n",
        "# Example bandpass range in Hz (adjust these to target brainstem, middle latency, or cortical)\n",
        "low_cutoff = 70.0\n",
        "high_cutoff = 3000.0\n",
        "\n",
        "print(\"Filter type:\", filter_type)\n",
        "print(\"Cutoff frequencies:\", low_cutoff, \"Hz to\", high_cutoff, \"Hz\")\n"
      ],
      "metadata": {
        "id": "vd4PHKnVjzHZ"
      },
      "execution_count": null,
      "outputs": []
    },
    {
      "cell_type": "code",
      "source": [
        "# --- TIME WINDOW PARAMETER CELL ---\n",
        "\n",
        "# Set the time window in the same units as the first column of the spreadsheet.\n",
        "# These are in seconds.\n",
        "start_time = 0.0\n",
        "end_time = 0.012\n",
        "\n",
        "print(\"Time window for plotting:\", start_time, \"to\", end_time, \"(s)\")\n"
      ],
      "metadata": {
        "id": "ze2tHn3bj68s"
      },
      "execution_count": null,
      "outputs": []
    },
    {
      "cell_type": "markdown",
      "source": [
        "# Filtering and Plotting\n",
        "\n",
        "Steps done by the code:\n",
        "1. Extract the time column from the DataFrame.\n",
        "2. Randomly pick one participant’s column.\n",
        "3. Extract only the portion of the data between `start_time` and `end_time`.\n",
        "4. Compute the sampling rate from the time column (assuming uniform sampling).\n",
        "5. Apply the selected filter (FIR or IIR).\n",
        "6. Plot the filtered signal.\n"
      ],
      "metadata": {
        "id": "vzTJpJsCkB4a"
      }
    },
    {
      "cell_type": "code",
      "source": [
        "#@title This section does the actual filtering and plotting: **Re-run to pick random participant each time**\n",
        "from scipy.signal import butter, filtfilt, firwin\n",
        "\n",
        "# 1. Extract the time column\n",
        "#    We'll assume it's the first column in df.\n",
        "time_col_name = df.columns[0]        # e.g., \"Time\"\n",
        "time_array = df[time_col_name].values\n",
        "\n",
        "# 2. Randomly pick one participant column\n",
        "# exclude the first column (Time) and columns having mean and SEM\n",
        "all_participants = df.columns[1:22]\n",
        "random_participant = np.random.choice(all_participants)\n",
        "signal = df[random_participant].values\n",
        "\n",
        "print(f\"Randomly selected participant: {random_participant}\")\n",
        "\n",
        "# 3. Extract only the portion of the data between start_time and end_time\n",
        "#    First, find indices where (time >= start_time) & (time <= end_time)\n",
        "mask = (time_array >= start_time) & (time_array <= end_time)\n",
        "time_segment = time_array[mask]\n",
        "signal_segment = signal[mask]\n",
        "\n",
        "# 4. Compute the sampling rate from the time column\n",
        "#    Assuming the first column is in seconds:\n",
        "#    If the first column is in seconds:\n",
        "#      dt = (time_segment[1] - time_segment[0]) in seconds\n",
        "#      fs = 1 / dt\n",
        "\n",
        "if len(time_segment) < 2:\n",
        "    raise ValueError(\"Selected time window is too small or invalid. Check your start/end times.\")\n",
        "\n",
        "dt = time_segment[1] - time_segment[0]  # difference in consecutive time points\n",
        "fs = 1.0 / dt\n",
        "print(f\"Approx. sampling rate (fs): {fs:.2f} Hz\")\n",
        "\n",
        "# 5. Apply the chosen filter\n",
        "\n",
        "def apply_filter(sig, fs, low_cut, high_cut, ftype='fir1'):\n",
        "    \"\"\"\n",
        "    Apply zero-phase bandpass filtering to the input signal.\n",
        "\n",
        "    Parameters\n",
        "    ----------\n",
        "    sig : array\n",
        "        1D time-series signal to be filtered.\n",
        "    fs : float\n",
        "        Sampling rate in Hz.\n",
        "    low_cut : float\n",
        "        Lower cutoff frequency in Hz.\n",
        "    high_cut : float\n",
        "        Upper cutoff frequency in Hz.\n",
        "    ftype : str, optional\n",
        "        'fir1' for FIR filter (using Blackman window) or 'iir' for IIR (Butterworth).\n",
        "\n",
        "    Returns\n",
        "    -------\n",
        "    filtered_signal : array\n",
        "        The zero-phase filtered signal.\n",
        "    \"\"\"\n",
        "\n",
        "    # Compute normalized cutoff frequencies\n",
        "    nyquist = fs / 2.0\n",
        "    low = low_cut / nyquist\n",
        "    high = high_cut / nyquist\n",
        "\n",
        "    if ftype == 'fir1':\n",
        "        # Create FIR coefficients using a Blackman window\n",
        "        b = firwin(64, [low, high], pass_zero=False, window='blackman')\n",
        "        # Zero-phase filtering by setting a = [1] and calling filtfilt(b, a, sig)\n",
        "        filtered_signal = filtfilt(b, [1.0], sig)\n",
        "        return filtered_signal\n",
        "\n",
        "    elif ftype == 'iir':\n",
        "        # Create a 4th order Butterworth bandpass filter\n",
        "        b, a = butter(4, [low, high], btype='band')\n",
        "        # filtfilt also provides zero-phase filtering for IIR\n",
        "        filtered_signal = filtfilt(b, a, sig)\n",
        "        return filtered_signal\n",
        "\n",
        "    else:\n",
        "        raise ValueError(\"Unknown filter type. Choose 'fir1' or 'iir'.\")\n",
        "\n",
        "\n",
        "filtered_segment = apply_filter(signal_segment, fs, low_cutoff, high_cutoff, filter_type)\n",
        "\n",
        "# 6. Plot the filtered signal\n",
        "plt.figure()\n",
        "plt.plot(time_segment, filtered_segment)\n",
        "plt.xlabel(f\"Time (seconds)\")\n",
        "plt.ylabel(\"Amplitude (microvolts)\")\n",
        "plt.title(f\"Filtered Response ({filter_type.upper()}): {random_participant}\")\n",
        "plt.grid(True)\n",
        "plt.show()\n"
      ],
      "metadata": {
        "cellView": "form",
        "id": "N418Pjs2kC6F"
      },
      "execution_count": null,
      "outputs": []
    },
    {
      "cell_type": "markdown",
      "source": [
        "# Grand Average of Filtered Responses\n",
        "\n",
        "Previously, we demonstrated filtering a **single participant’s** response. However, if we want\n",
        "a **grand average** that reflects the same processing steps for every participant, we need to:\n",
        "\n",
        "1. **Extract and filter** each participant’s data over the same time window.\n",
        "2. **Store** these filtered waveforms.\n",
        "3. **Compute** the grand average (mean across participants) and standard error (SEM).\n",
        "\n",
        "Plotting the grand average of the **filtered** signals (as opposed to filtering the average) is often desirable in evoked potential studies to ensure that each subject’s waveform is processed in the same way prior to averaging.\n",
        "\n",
        "\n"
      ],
      "metadata": {
        "id": "ttk-m3lPmL4u"
      }
    },
    {
      "cell_type": "code",
      "source": [
        "#@title This section shows the grand average across individuals\n",
        "\n",
        "import numpy as np\n",
        "import matplotlib.pyplot as plt\n",
        "\n",
        "# (1) Identify the time column and compute sampling rate\n",
        "time_col_name = df.columns[0]   # e.g., \"Time\"\n",
        "time_array = df[time_col_name].values\n",
        "\n",
        "\n",
        "dt = time_array[1] - time_array[0]\n",
        "fs = 1.0 / dt\n",
        "# (2) Create a mask for the desired time window\n",
        "mask = (time_array >= start_time) & (time_array <= end_time)\n",
        "time_segment = time_array[mask]\n",
        "\n",
        "# (3) Filter each participant over the same time window, then store the result\n",
        "filtered_data = []  # will become a list of 1D arrays (one per participant)\n",
        "\n",
        "# We'll re-use the apply_filter function you defined earlier (with filtfilt for zero-phase):\n",
        "# def apply_filter(sig, fs, low_cut, high_cut, ftype='fir1'):\n",
        "\n",
        "\n",
        "# Suppose the first column is time, columns 1..21 are actual participants\n",
        "valid_participant_cols = df.columns[1:22]  # i.e., up to 21 inclusive\n",
        "\n",
        "for participant in valid_participant_cols:\n",
        "    # Extract the participant's signal in the time window\n",
        "    raw_signal = df[participant].values[mask]\n",
        "    # Filter the signal\n",
        "    filtered_signal = apply_filter(raw_signal, fs, low_cutoff, high_cutoff, filter_type)\n",
        "    filtered_data.append(filtered_signal)\n",
        "\n",
        "# Convert the list to a 2D NumPy array: shape (num_participants, num_timepoints)\n",
        "filtered_data = np.array(filtered_data)\n",
        "\n",
        "# (4) Compute grand average and standard error across participants\n",
        "grand_average = filtered_data.mean(axis=0)\n",
        "grand_std = filtered_data.std(axis=0)\n",
        "num_participants = filtered_data.shape[0]\n",
        "sem = grand_std / np.sqrt(num_participants)\n",
        "\n",
        "# (5) Plot the grand average and a shaded region for ±1 SEM\n",
        "plt.figure()\n",
        "plt.plot(time_segment, grand_average, label='Grand Average (Filtered)')\n",
        "plt.fill_between(\n",
        "    time_segment,\n",
        "    grand_average - sem,\n",
        "    grand_average + sem,\n",
        "    alpha=0.3,\n",
        "    label='±1 SEM'\n",
        ")\n",
        "plt.xlabel(f\"Time (seconds)\")\n",
        "plt.ylabel(\"Amplitude (microvolts)\")\n",
        "plt.title(\"Grand Average of Filtered Responses\")\n",
        "plt.legend()\n",
        "plt.grid(True)\n",
        "plt.show()\n",
        "\n"
      ],
      "metadata": {
        "cellView": "form",
        "id": "LePsLsTcmRPF"
      },
      "execution_count": null,
      "outputs": []
    }
  ]
}