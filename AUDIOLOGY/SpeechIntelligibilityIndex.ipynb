{
  "nbformat": 4,
  "nbformat_minor": 0,
  "metadata": {
    "colab": {
      "provenance": [],
      "authorship_tag": "ABX9TyNN2nCIMigqRvdDb8PMNeNG",
      "include_colab_link": true
    },
    "kernelspec": {
      "name": "python3",
      "display_name": "Python 3"
    },
    "language_info": {
      "name": "python"
    }
  },
  "cells": [
    {
      "cell_type": "markdown",
      "metadata": {
        "id": "view-in-github",
        "colab_type": "text"
      },
      "source": [
        "<a href=\"https://colab.research.google.com/github/haribharadwaj/notebooks/blob/main/AUDIOLOGY/SpeechIntelligibilityIndex.ipynb\" target=\"_parent\"><img src=\"https://colab.research.google.com/assets/colab-badge.svg\" alt=\"Open In Colab\"/></a>"
      ]
    },
    {
      "cell_type": "markdown",
      "source": [
        "# Computing a Simplified Speech Intelligibility Index (SII)\n",
        "\n",
        "This notebook demonstrates how to compute a simplified form of the Speech Intelligibility Index (SII) using:\n",
        "\n",
        "- A given overall speech level (in dB HL).\n",
        "- A user’s audiogram (in dB HL).\n",
        "- A standard set of band importance weights and a typical long-term average speech spectrum shape.\n",
        "\n",
        "**Steps:**\n",
        "\n",
        "1. **Convert Overall Speech HL to a Band-by-Band Spectrum (dB SPL):**\n",
        "   - Use a reference LTASS and scale it so that the overall level near 1000 Hz matches the user’s input.\n",
        "   - Convert from HL to SPL with RETSPLs.\n",
        "\n",
        "2. **Convert Audiogram to SPL:**\n",
        "   - Convert user’s threshold in dB HL to dB SPL using RETSPL values.\n",
        "\n",
        "3. **No Noise (or Add if Needed):**\n",
        "   - For simplicity, we assume quiet. You can add a noise spectrum similarly if desired.\n",
        "\n",
        "4. **Calculate Audibility per Band:**\n",
        "   - Audibility = (Speech_in_Band - Threshold_in_Band) / 30, clipped between 0 and 1.\n",
        "   - This is a simplified approximation of the audibility function from SII; actual SII computations use more detailed methods.\n",
        "\n",
        "5. **Apply Band Importance Functions (BIFs):**\n",
        "   - Multiply each band’s audibility by its importance and sum.\n",
        "\n",
        "**Output:**\n",
        "- An SII value between 0 and 1, representing the proportion of speech cues available to the listener.\n",
        "\n"
      ],
      "metadata": {
        "id": "redDkB9UgLME"
      }
    },
    {
      "cell_type": "code",
      "execution_count": 1,
      "metadata": {
        "id": "75laKSvVgEOI"
      },
      "outputs": [],
      "source": [
        "#@title Audibility Index Function Definitions\n",
        "import numpy as np\n",
        "\n",
        "def hl_to_spl(hl_vals, freqs, ret_freqs, ret_values):\n",
        "    interp_retspl = np.interp(freqs, ret_freqs, ret_values)\n",
        "    return hl_vals + interp_retspl\n",
        "\n",
        "def compute_sii(overall_speech_HL, audiogram_freqs, audiogram_levels):\n",
        "    \"\"\"\n",
        "    Compute a simplified SII for Auditec NU-6 recordings using:\n",
        "    - The importance weights from Studebaker, Sherbecoe, & Gilmore (1993).\n",
        "    - An ANSI S3.5-based LTASS for normal vocal effort male speech (with slight extrapolation at 125 Hz and 10,000 Hz).\n",
        "\n",
        "    Parameters\n",
        "    ----------\n",
        "    overall_speech_HL : float\n",
        "        Overall speech level in dB HL at ~1000 Hz.\n",
        "    audiogram_freqs : array-like\n",
        "        Frequencies (Hz) at which the audiogram levels are given.\n",
        "    audiogram_levels : array-like\n",
        "        Corresponding thresholds in dB HL at those frequencies.\n",
        "\n",
        "    Returns\n",
        "    -------\n",
        "    SII : float\n",
        "        Estimated Speech Intelligibility Index (0 to 1)\n",
        "\n",
        "    Notes\n",
        "    -----\n",
        "    - This remains a simplified approximation and not a full ANSI S3.5 SII calculation.\n",
        "    - The LTASS values are taken from ANSI S3.5 (160–8000 Hz) and extrapolated at the edges.\n",
        "    - The user should ensure that audiogram_freqs are in ascending order and cover or reasonably interpolate within the frequency range of interest.\n",
        "    \"\"\"\n",
        "\n",
        "    audiogram_freqs = np.array(audiogram_freqs, dtype=float)\n",
        "    audiogram_levels = np.array(audiogram_levels, dtype=float)\n",
        "\n",
        "    # ER-3A insert earphone RETSPLs (ANSI S3.6 approx)\n",
        "    ret_freqs = np.array([125,250,500,750,1000,1500,2000,3000,4000,6000,8000])\n",
        "    ret_values = np.array([45.5,29.5,13.5,9.5,5.5,4.5,2.5,3.0,1.5,4.5,13.0])\n",
        "\n",
        "    # Bands from the Auditec NU-6 importance function (1/3 octave bands)\n",
        "    bands = np.array([125,160,200,250,315,400,500,630,800,1000,\n",
        "                      1250,1600,2000,2500,3150,4000,5000,6300,8000,10000])\n",
        "\n",
        "    # ANSI-based LTASS (approximate)\n",
        "    # Using the table above:\n",
        "    ansi_ltass_dbspl = np.array([\n",
        "        45.0,  # 125 Hz (extrapolated)\n",
        "        47.2,  # 160 Hz\n",
        "        49.1,  # 200 Hz\n",
        "        51.0,  # 250 Hz\n",
        "        52.8,  # 315 Hz\n",
        "        54.6,  # 400 Hz\n",
        "        56.1,  # 500 Hz\n",
        "        57.1,  # 630 Hz\n",
        "        58.1,  # 800 Hz\n",
        "        59.0,  # 1000 Hz\n",
        "        59.4,  # 1250 Hz\n",
        "        59.5,  # 1600 Hz\n",
        "        59.0,  # 2000 Hz\n",
        "        57.7,  # 2500 Hz\n",
        "        56.5,  # 3150 Hz\n",
        "        55.0,  # 4000 Hz\n",
        "        53.0,  # 5000 Hz\n",
        "        50.0,  # 6300 Hz\n",
        "        47.0,  # 8000 Hz\n",
        "        44.0   # 10000 Hz (extrapolated)\n",
        "    ])\n",
        "\n",
        "    # Convert overall speech HL at 1000 Hz to SPL\n",
        "    overall_speech_SPL_1000 = hl_to_spl(np.array([overall_speech_HL]),\n",
        "                                        np.array([1000]), ret_freqs, ret_values)[0]\n",
        "\n",
        "    # Find band near 1000 Hz\n",
        "    ref_index = np.argmin(np.abs(bands - 1000))\n",
        "    diff = overall_speech_SPL_1000 - ansi_ltass_dbspl[ref_index]\n",
        "    speech_spl_bands = ansi_ltass_dbspl + diff\n",
        "\n",
        "    # Interpolate audiogram to these band frequencies\n",
        "    threshold_hl_bands = np.interp(bands, audiogram_freqs, audiogram_levels,\n",
        "                                   left=audiogram_levels[0], right=audiogram_levels[-1])\n",
        "    threshold_spl_bands = hl_to_spl(threshold_hl_bands, bands, ret_freqs, ret_values)\n",
        "\n",
        "    # Assume no noise\n",
        "    noise_spl_bands = np.full(len(bands), -999.0)\n",
        "\n",
        "    # Compute audibility\n",
        "    audibility = np.zeros(len(bands))\n",
        "    for i in range(len(bands)):\n",
        "        effective_floor = max(threshold_spl_bands[i], noise_spl_bands[i])\n",
        "        aud = (speech_spl_bands[i] - effective_floor)/30.0\n",
        "        audibility[i] = np.clip(aud, 0, 1)\n",
        "\n",
        "    # Importance function from Studebaker et al. (1993) for Auditec NU-6\n",
        "    bif_percent = np.array([0.73,0.95,1.30,2.11,3.44,5.17,7.37,6.58,6.44,6.64,\n",
        "                            8.02,9.87,11.71,9.32,7.83,5.62,3.37,1.77,1.04,0.72])\n",
        "    bif = bif_percent / np.sum(bif_percent)\n",
        "\n",
        "    # Compute SII\n",
        "    SII = np.sum(audibility * bif)\n",
        "    return SII"
      ]
    },
    {
      "cell_type": "code",
      "source": [
        "#@title Transfer Function to Estimate Percent Correct Scores\n",
        "\n",
        "def nu6_transfer_from_sii(A, P=1.00, Q=0.404, N=3.334):\n",
        "    \"\"\"\n",
        "    Compute the predicted NU-6 score (proportion correct) from the Audibility Index (A),\n",
        "    using the transfer function parameters from Studebaker, Sherbecoe, & Gilmore (1993).\n",
        "\n",
        "    Parameters\n",
        "    ----------\n",
        "    A : float or array-like\n",
        "        Audibility Index (or SII-like measure) between 0 and 1.\n",
        "    P : float\n",
        "        Proficiency factor (default 1.00).\n",
        "    Q : float\n",
        "        Fitting constant (default 0.404).\n",
        "    N : float\n",
        "        Fitting constant controlling steepness (default 3.334).\n",
        "\n",
        "    Returns\n",
        "    -------\n",
        "    S : float or ndarray\n",
        "        Predicted NU-6 score in percent correct (0 to 100).\n",
        "    \"\"\"\n",
        "    A = np.array(A, dtype=float)\n",
        "    S = 100. * (1 - 10**(-(A * P / Q)))**N\n",
        "    return S\n",
        "\n"
      ],
      "metadata": {
        "id": "rce_f31npjrq"
      },
      "execution_count": 2,
      "outputs": []
    },
    {
      "cell_type": "markdown",
      "source": [
        "## Example Usage"
      ],
      "metadata": {
        "id": "lTDehTIHgzqh"
      }
    },
    {
      "cell_type": "code",
      "source": [
        "# Example usage:\n",
        "\n",
        "audiogram_freqs = [250, 500, 1000, 2000, 3000, 4000, 6000, 8000]\n",
        "audiogram_levels = [25, 30, 40, 50, 50, 55, 60, 80]\n",
        "overall_speech_HL = 70\n",
        "sii_value = compute_sii(overall_speech_HL, audiogram_freqs, audiogram_levels)\n",
        "predicted_score = nu6_transfer_from_sii(sii_value)\n",
        "print(f\"Predicted Word Score given Audibility Index of {sii_value:.2f} is: {predicted_score:.1f}%\")"
      ],
      "metadata": {
        "colab": {
          "base_uri": "https://localhost:8080/"
        },
        "id": "CocN4nJtgmag",
        "outputId": "ae55aa30-0a74-4f08-860c-f4a04e88959f"
      },
      "execution_count": 3,
      "outputs": [
        {
          "output_type": "stream",
          "name": "stdout",
          "text": [
            "Predicted Word Score given Audibility Index of 0.74 is: 95.3%\n"
          ]
        }
      ]
    }
  ]
}