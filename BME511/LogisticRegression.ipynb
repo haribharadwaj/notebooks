{
 "cells": [
  {
   "cell_type": "markdown",
   "id": "57102f97",
   "metadata": {},
   "source": [
    "<a href=\"https://colab.research.google.com/github/haribharadwaj/notebooks/blob/main/BME511/LogisticRegression.ipynb\" target=\"_parent\"><img src=\"https://colab.research.google.com/assets/colab-badge.svg\" alt=\"Open In Colab\"/></a>"
   ]
  },
  {
   "cell_type": "markdown",
   "id": "266706c4",
   "metadata": {},
   "source": [
    "# Logistic regression model (using L2 and L1 norm regularization) for heart failure data\n",
    "\n",
    "\n",
    "Here we will use the dataset from:\n",
    "\n",
    "Chicco, D., Jurman, G. Machine learning can predict survival of patients with heart failure from serum creatinine and ejection fraction alone. BMC Med Inform Decis Mak 20, 16 (2020). https://doi.org/10.1186/s12911-020-1023-5\n",
    "\n",
    "\n",
    "The dataset consists of medical records from 299 patients suffering from heart failure. The measurements are from the follow-up period. Some patients survived, and others did not. Here, the goal is to test whether any of the measurements during follow-up can predict survival/fatality.\n",
    "\n",
    "The data table, provided as a ```.csv``` file, contains the following measurements:\n",
    "\n",
    "| Feature\t| Description\t| Measurement Units\t| Range |\n",
    "| :----     | :---          | :---              | :---: |\n",
    "| Age \t| Age of the patient |\tYears\t| [40,..., 95] |\n",
    "|Anaemia |\tDecrease of red blood cells or hemoglobin |\tBoolean |\t0, 1 |\n",
    "| High blood pressure\t| If a patient has hypertension\t| Boolean\t| 0, 1|\n",
    "|Creatinine phosphokinase (CPK) |\tLevel of the CPK enzyme in the blood\t| mcg/L\t| [23,..., 7861]|\n",
    "| Diabetes\t| If the patient has a prior diabetes diagnosis |\tBoolean |\t0, 1 |\n",
    "| Ejection fraction |\tFraction of blood volume leaving the cardiac chambers for each contraction\t| Percentage | \t[14,..., 80]|\n",
    "|Sex\t| Biological Sex\t| Binary |\t0 (Female), 1 (Male) |\n",
    "| Platelets\t| Platelet count in blood\t| kiloplatelets/mL\t|[25.01,..., 850.00]|\n",
    "| Serum creatinine | Level of creatinine in the blood |\tmg/dL\t| [0.50,..., 9.40] |\n",
    "| Serum sodium |\tLevel of sodium in the blood |\tmEq/L\t| [114,..., 148] |\n",
    "| Smoking |\tPatient had smoking history |\tBoolean |\t0, 1 |\n",
    "| Time\t| Follow-up period\t| Days\t| [4,...,285] |\n",
    "|(target) Death Event |\tIf the patient died during the follow-up period |\tBoolean\t| 0, 1 |\n"
   ]
  },
  {
   "cell_type": "code",
   "execution_count": 1,
   "id": "7dd9b944",
   "metadata": {},
   "outputs": [],
   "source": [
    "import numpy as np\n",
    "import pylab as pl\n",
    "\n",
    "# Setting it so figs will be a bit bigger\n",
    "from matplotlib import pyplot as plt\n",
    "plt.rcParams['figure.figsize'] = [5, 3.33]\n",
    "plt.rcParams['figure.dpi']  = 120"
   ]
  },
  {
   "cell_type": "markdown",
   "id": "3062cff2",
   "metadata": {},
   "source": [
    "## Use ```pandas``` for dealing with tabular data and CSV files"
   ]
  },
  {
   "cell_type": "code",
   "execution_count": 2,
   "id": "8008d906",
   "metadata": {},
   "outputs": [],
   "source": [
    "import pandas as pd"
   ]
  },
  {
   "cell_type": "code",
   "execution_count": 3,
   "id": "e20e6bcd",
   "metadata": {},
   "outputs": [],
   "source": [
    "dat = pd.read_csv('heart_failure_clinical_records_dataset.csv')"
   ]
  },
  {
   "cell_type": "code",
   "execution_count": 4,
   "id": "3baf238b",
   "metadata": {},
   "outputs": [
    {
     "data": {
      "text/plain": [
       "Index(['age', 'anaemia', 'creatinine_phosphokinase', 'diabetes',\n",
       "       'ejection_fraction', 'high_blood_pressure', 'platelets',\n",
       "       'serum_creatinine', 'serum_sodium', 'sex', 'smoking', 'time',\n",
       "       'DEATH_EVENT'],\n",
       "      dtype='object')"
      ]
     },
     "execution_count": 4,
     "metadata": {},
     "output_type": "execute_result"
    }
   ],
   "source": [
    "dat.keys()"
   ]
  },
  {
   "cell_type": "code",
   "execution_count": 5,
   "id": "9c066f09",
   "metadata": {},
   "outputs": [
    {
     "data": {
      "text/html": [
       "<div>\n",
       "<style scoped>\n",
       "    .dataframe tbody tr th:only-of-type {\n",
       "        vertical-align: middle;\n",
       "    }\n",
       "\n",
       "    .dataframe tbody tr th {\n",
       "        vertical-align: top;\n",
       "    }\n",
       "\n",
       "    .dataframe thead th {\n",
       "        text-align: right;\n",
       "    }\n",
       "</style>\n",
       "<table border=\"1\" class=\"dataframe\">\n",
       "  <thead>\n",
       "    <tr style=\"text-align: right;\">\n",
       "      <th></th>\n",
       "      <th>age</th>\n",
       "      <th>anaemia</th>\n",
       "      <th>creatinine_phosphokinase</th>\n",
       "      <th>diabetes</th>\n",
       "      <th>ejection_fraction</th>\n",
       "      <th>high_blood_pressure</th>\n",
       "      <th>platelets</th>\n",
       "      <th>serum_creatinine</th>\n",
       "      <th>serum_sodium</th>\n",
       "      <th>sex</th>\n",
       "      <th>smoking</th>\n",
       "      <th>time</th>\n",
       "      <th>DEATH_EVENT</th>\n",
       "    </tr>\n",
       "  </thead>\n",
       "  <tbody>\n",
       "    <tr>\n",
       "      <th>0</th>\n",
       "      <td>75.0</td>\n",
       "      <td>0</td>\n",
       "      <td>582</td>\n",
       "      <td>0</td>\n",
       "      <td>20</td>\n",
       "      <td>1</td>\n",
       "      <td>265000.00</td>\n",
       "      <td>1.9</td>\n",
       "      <td>130</td>\n",
       "      <td>1</td>\n",
       "      <td>0</td>\n",
       "      <td>4</td>\n",
       "      <td>1</td>\n",
       "    </tr>\n",
       "    <tr>\n",
       "      <th>1</th>\n",
       "      <td>55.0</td>\n",
       "      <td>0</td>\n",
       "      <td>7861</td>\n",
       "      <td>0</td>\n",
       "      <td>38</td>\n",
       "      <td>0</td>\n",
       "      <td>263358.03</td>\n",
       "      <td>1.1</td>\n",
       "      <td>136</td>\n",
       "      <td>1</td>\n",
       "      <td>0</td>\n",
       "      <td>6</td>\n",
       "      <td>1</td>\n",
       "    </tr>\n",
       "    <tr>\n",
       "      <th>2</th>\n",
       "      <td>65.0</td>\n",
       "      <td>0</td>\n",
       "      <td>146</td>\n",
       "      <td>0</td>\n",
       "      <td>20</td>\n",
       "      <td>0</td>\n",
       "      <td>162000.00</td>\n",
       "      <td>1.3</td>\n",
       "      <td>129</td>\n",
       "      <td>1</td>\n",
       "      <td>1</td>\n",
       "      <td>7</td>\n",
       "      <td>1</td>\n",
       "    </tr>\n",
       "    <tr>\n",
       "      <th>3</th>\n",
       "      <td>50.0</td>\n",
       "      <td>1</td>\n",
       "      <td>111</td>\n",
       "      <td>0</td>\n",
       "      <td>20</td>\n",
       "      <td>0</td>\n",
       "      <td>210000.00</td>\n",
       "      <td>1.9</td>\n",
       "      <td>137</td>\n",
       "      <td>1</td>\n",
       "      <td>0</td>\n",
       "      <td>7</td>\n",
       "      <td>1</td>\n",
       "    </tr>\n",
       "    <tr>\n",
       "      <th>4</th>\n",
       "      <td>65.0</td>\n",
       "      <td>1</td>\n",
       "      <td>160</td>\n",
       "      <td>1</td>\n",
       "      <td>20</td>\n",
       "      <td>0</td>\n",
       "      <td>327000.00</td>\n",
       "      <td>2.7</td>\n",
       "      <td>116</td>\n",
       "      <td>0</td>\n",
       "      <td>0</td>\n",
       "      <td>8</td>\n",
       "      <td>1</td>\n",
       "    </tr>\n",
       "  </tbody>\n",
       "</table>\n",
       "</div>"
      ],
      "text/plain": [
       "    age  anaemia  creatinine_phosphokinase  diabetes  ejection_fraction  \\\n",
       "0  75.0        0                       582         0                 20   \n",
       "1  55.0        0                      7861         0                 38   \n",
       "2  65.0        0                       146         0                 20   \n",
       "3  50.0        1                       111         0                 20   \n",
       "4  65.0        1                       160         1                 20   \n",
       "\n",
       "   high_blood_pressure  platelets  serum_creatinine  serum_sodium  sex  \\\n",
       "0                    1  265000.00               1.9           130    1   \n",
       "1                    0  263358.03               1.1           136    1   \n",
       "2                    0  162000.00               1.3           129    1   \n",
       "3                    0  210000.00               1.9           137    1   \n",
       "4                    0  327000.00               2.7           116    0   \n",
       "\n",
       "   smoking  time  DEATH_EVENT  \n",
       "0        0     4            1  \n",
       "1        0     6            1  \n",
       "2        1     7            1  \n",
       "3        0     7            1  \n",
       "4        0     8            1  "
      ]
     },
     "execution_count": 5,
     "metadata": {},
     "output_type": "execute_result"
    }
   ],
   "source": [
    "dat.head()"
   ]
  },
  {
   "cell_type": "markdown",
   "id": "aadde5d8",
   "metadata": {},
   "source": [
    "## Again, we will rely on the ```scikit-learn``` library for creating and fitting models\n",
    "\n",
    "The ```sklearn``` library is a mature, well-tested library of implementations of many standard machine-learning models and provides a clean API to work with. In addition to being able to fit models and draw predictions for new inputs, ```sklearn``` also provides many useful utilities for handling data. It also has functions for creating toy datasets which can be used to understand the pros and cons of various models.  The library is designed to work in conjunction with ```numpy```, ```scipy```, ```matplotlib```, and ```pandas```."
   ]
  },
  {
   "cell_type": "code",
   "execution_count": 6,
   "id": "86f656eb",
   "metadata": {},
   "outputs": [],
   "source": [
    "from sklearn import linear_model"
   ]
  },
  {
   "cell_type": "markdown",
   "id": "e525b5d2",
   "metadata": {},
   "source": [
    "### Preprocessing\n",
    "Note that the categorical variables here, like ```anaemia```, ```diabetes```, ```high_blood_pressure```, ```smoking```, etc., are already specified with one-hot encoding and they are all binary. If you had categorical variables that had other category descriptors, or if there were more than 2 categories, explicit one-hot encoding using something like ```sklearn.preprocessing.OneHotEncoder``` will be necessary as a pre-processing step.\n",
    "\n",
    "However, the different variables have wildly different numerical ranges. So we'll scale all variable to occupy [0, 1]. This will allow for the coefficients to be interpreted more easily."
   ]
  },
  {
   "cell_type": "code",
   "execution_count": 7,
   "id": "4b8dd47e",
   "metadata": {},
   "outputs": [],
   "source": [
    "X = dat.drop(labels=['DEATH_EVENT','time'], axis=1, inplace=False)\n",
    "y = dat['DEATH_EVENT']"
   ]
  },
  {
   "cell_type": "code",
   "execution_count": 8,
   "id": "56cc048e",
   "metadata": {},
   "outputs": [],
   "source": [
    "from sklearn import preprocessing\n",
    "scaler = preprocessing.MinMaxScaler()\n",
    "X_scaled = scaler.fit_transform(X)"
   ]
  },
  {
   "cell_type": "markdown",
   "id": "c05eaa20",
   "metadata": {},
   "source": [
    "## Perform regularized logistic regression model\n",
    "\n",
    "As we discussed in class, logistic regression transforms an intermediate linear-model output to a [0, 1] output that can be interpreted as a probability of an input belonging to a certain class. The transformation is done via a logistic function of the form \n",
    "$$ f(z) = \\frac{1}{1 + e^{-z}} $$\n",
    "The label returned for an input by this logistic regression model is just the class that has theh highest probability for that input.\n",
    "\n",
    "These models are fit with a cross-entropy loss function, and can be regularized using:\n",
    "- L1 norm priors, leading to sparser solutions (known as **Lasso** regression)\n",
    "- L2 norm priors, leading to smoother solutions (known as **ridge** regression)\n",
    "- Some linear combination of L1- and L2-norm priors imposing desirable properties from both (known as **ElasticNet** regression)"
   ]
  },
  {
   "cell_type": "markdown",
   "id": "b3eaa28a",
   "metadata": {},
   "source": [
    "### Fit L1-norm regularized logistic regression model"
   ]
  },
  {
   "cell_type": "code",
   "execution_count": 9,
   "id": "064d3eef",
   "metadata": {},
   "outputs": [
    {
     "name": "stdout",
     "output_type": "stream",
     "text": [
      "Accuracy = 75.6%\n"
     ]
    }
   ],
   "source": [
    "C = 1  # This is the regularization hyperparameter (inverse of how strongly you want to regularize)\n",
    "# Try various C values (closer to 0 => stronger regularization; larger values => tending to max-likelihood)\n",
    "model = linear_model.LogisticRegression(penalty='l1', solver='liblinear', C=C)\n",
    "model.fit(X_scaled, y)\n",
    "y_predicted = model.predict(X_scaled)\n",
    "acc = (y_predicted == y).sum()  * 100 / y.shape[0]\n",
    "print(f'Accuracy = {acc:0.1f}%')"
   ]
  },
  {
   "cell_type": "code",
   "execution_count": 10,
   "id": "9fd71465",
   "metadata": {},
   "outputs": [
    {
     "data": {
      "text/plain": [
       "Text(0.5, 0, 'Coefficients')"
      ]
     },
     "execution_count": 10,
     "metadata": {},
     "output_type": "execute_result"
    },
    {
     "data": {
      "image/png": "[encoded data removed]",
      "text/plain": [
       "<Figure size 600x399.6 with 1 Axes>"
      ]
     },
     "metadata": {
      "needs_background": "light"
     },
     "output_type": "display_data"
    }
   ],
   "source": [
    "pl.barh(np.arange(X.shape[1]), model.coef_.squeeze())\n",
    "pl.yticks(np.arange(X.shape[1]), labels=X.columns)\n",
    "pl.xlabel('Coefficients')"
   ]
  },
  {
   "cell_type": "markdown",
   "id": "d29ae7df",
   "metadata": {},
   "source": [
    "### Fit L2-norm regularized logistic regression model"
   ]
  },
  {
   "cell_type": "code",
   "execution_count": 11,
   "id": "deb4be98",
   "metadata": {},
   "outputs": [
    {
     "name": "stdout",
     "output_type": "stream",
     "text": [
      "Accuracy = 74.9%\n"
     ]
    }
   ],
   "source": [
    "model = linear_model.LogisticRegression(penalty='l2', solver='liblinear', C=1)\n",
    "model.fit(X_scaled, y)\n",
    "y_predicted = model.predict(X_scaled)\n",
    "acc = (y_predicted == y).sum()  * 100 / y.shape[0]\n",
    "print(f'Accuracy = {acc:0.1f}%')"
   ]
  },
  {
   "cell_type": "code",
   "execution_count": 12,
   "id": "edc51819",
   "metadata": {},
   "outputs": [
    {
     "data": {
      "text/plain": [
       "Text(0.5, 0, 'Coefficients')"
      ]
     },
     "execution_count": 12,
     "metadata": {},
     "output_type": "execute_result"
    },
    {
     "data": {
      "image/png": "[encoded data removed]",
      "text/plain": [
       "<Figure size 600x399.6 with 1 Axes>"
      ]
     },
     "metadata": {
      "needs_background": "light"
     },
     "output_type": "display_data"
    }
   ],
   "source": [
    "pl.barh(np.arange(X.shape[1]), model.coef_.squeeze())\n",
    "pl.yticks(np.arange(X.shape[1]), labels=X.columns)\n",
    "pl.xlabel('Coefficients')"
   ]
  },
  {
   "cell_type": "markdown",
   "id": "237d334c",
   "metadata": {},
   "source": [
    "## Conclusions about heart failure data\n",
    "\n",
    "Reasonable classification accuracy can be obtained using the measured features. Results suggest that high serum creatinitine levels, and low ejection fraction are the strongest prdictors of fatality. Advanced age is also a risk factor."
   ]
  }
 ],
 "metadata": {
  "kernelspec": {
   "display_name": "Python 3 (ipykernel)",
   "language": "python",
   "name": "python3"
  },
  "language_info": {
   "codemirror_mode": {
    "name": "ipython",
    "version": 3
   },
   "file_extension": ".py",
   "mimetype": "text/x-python",
   "name": "python",
   "nbconvert_exporter": "python",
   "pygments_lexer": "ipython3",
   "version": "3.8.8"
  }
 },
 "nbformat": 4,
 "nbformat_minor": 5
}
