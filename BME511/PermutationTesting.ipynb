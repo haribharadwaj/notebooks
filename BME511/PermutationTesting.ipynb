{
  "nbformat": 4,
  "nbformat_minor": 5,
  "metadata": {
    "kernelspec": {
      "display_name": "Python 3 (ipykernel)",
      "language": "python",
      "name": "python3"
    },
    "language_info": {
      "codemirror_mode": {
        "name": "ipython",
        "version": 3
      },
      "file_extension": ".py",
      "mimetype": "text/x-python",
      "name": "python",
      "nbconvert_exporter": "python",
      "pygments_lexer": "ipython3",
      "version": "3.8.8"
    },
    "colab": {
      "name": "PermutationTesting.ipynb",
      "provenance": [],
      "include_colab_link": true
    }
  },
  "cells": [
    {
      "cell_type": "markdown",
      "metadata": {
        "id": "view-in-github",
        "colab_type": "text"
      },
      "source": [
        "<a href=\"https://colab.research.google.com/github/haribharadwaj/notebooks/blob/main/BME511/PermutationTesting.ipynb\" target=\"_parent\"><img src=\"https://colab.research.google.com/assets/colab-badge.svg\" alt=\"Open In Colab\"/></a>"
      ]
    },
    {
      "cell_type": "markdown",
      "metadata": {
        "id": "2bd77bbb"
      },
      "source": [
        "# Permutation tests\n",
        "\n",
        "Permutation tests are powerful in that only minimal distributional assumptions need to be made as long as **exchangeability** is satisfied.\n",
        "\n",
        "Note that exchangeable random variables are ones whose joint distribution doesn't change when we permute their ordering. This requirement is satisfied in most experimental scenarios under $\\mathcal{H}_0$."
      ],
      "id": "2bd77bbb"
    },
    {
      "cell_type": "markdown",
      "metadata": {
        "id": "4d4358cc"
      },
      "source": [
        "## Comparison of conventional statistical testing with permutation testing\n",
        "\n",
        "Here, let's do conventional statistical testing (e.g., assuming data is normal) and see the impact of deviations from assumptions. Let's then see if permutation tests are susceptible to similar issues.\n",
        "\n",
        "In particular, we will examine the effect of a heavier-than-normal tail (subexponential)."
      ],
      "id": "4d4358cc"
    },
    {
      "cell_type": "code",
      "metadata": {
        "id": "cabb0555"
      },
      "source": [
        "import numpy as np\n",
        "from scipy import stats\n",
        "import pylab as pl"
      ],
      "id": "cabb0555",
      "execution_count": 1,
      "outputs": []
    },
    {
      "cell_type": "code",
      "metadata": {
        "colab": {
          "base_uri": "https://localhost:8080/"
        },
        "id": "0d2c2afd",
        "outputId": "be166191-f3d6-4bc5-9ee1-b53602f70d58"
      },
      "source": [
        "# Draw two groups of normal measurements, with 20 samples each, but with the same distribution\n",
        "\n",
        "p_val_cutoff = 0.05\n",
        "Nreps = 1000\n",
        "p = np.zeros(Nreps)\n",
        "for k in range(Nreps):\n",
        "    N = 20\n",
        "    x1 = np.random.randn(N)\n",
        "    x2 = np.random.randn(N)\n",
        "    t, p[k] = stats.ttest_ind(x1, x2)\n",
        "\n",
        "print(f'The proportion of tests with false positives = {(p < p_val_cutoff).sum()/Nreps}')"
      ],
      "id": "0d2c2afd",
      "execution_count": 2,
      "outputs": [
        {
          "output_type": "stream",
          "name": "stdout",
          "text": [
            "The proportion of tests with false positives = 0.052\n"
          ]
        }
      ]
    },
    {
      "cell_type": "code",
      "metadata": {
        "colab": {
          "base_uri": "https://localhost:8080/"
        },
        "id": "430e2b2c",
        "outputId": "ad844424-2855-4e78-9dc0-1a52b3ada9ae"
      },
      "source": [
        "# Repeat the same, but with a heavy tailed distribution.\n",
        "# Here, we will use a cauchy distribution\n",
        "\n",
        "p_val_cutoff = 0.05\n",
        "Nreps = 1000\n",
        "p = np.zeros(Nreps)\n",
        "for k in range(Nreps):\n",
        "    N = 20\n",
        "    x1 = stats.cauchy.rvs(0, 1, N)\n",
        "    x2 = stats.cauchy.rvs(0, 1, N)\n",
        "    t, p[k] = stats.ttest_ind(x1, x2)\n",
        "\n",
        "print(f'The proportion of tests with false positives = {(p < p_val_cutoff).sum()/Nreps}')"
      ],
      "id": "430e2b2c",
      "execution_count": 3,
      "outputs": [
        {
          "output_type": "stream",
          "name": "stdout",
          "text": [
            "The proportion of tests with false positives = 0.02\n"
          ]
        }
      ]
    },
    {
      "cell_type": "markdown",
      "metadata": {
        "id": "7e648a9a"
      },
      "source": [
        "As we can see, the t-test is too conservative in this case!"
      ],
      "id": "7e648a9a"
    },
    {
      "cell_type": "markdown",
      "metadata": {
        "id": "e255b8e5"
      },
      "source": [
        "## Same experiments but with permutation testing\n",
        "\n",
        "Let's start by writing a function that can do permutation tests with a given number of permutations."
      ],
      "id": "e255b8e5"
    },
    {
      "cell_type": "code",
      "metadata": {
        "id": "4acdfcd9"
      },
      "source": [
        "def permtest(x1, x2, Nperms):\n",
        "    N1 = x1.shape[0]\n",
        "    N2 = x2.shape[0]\n",
        "    perms = np.zeros(Nperms)\n",
        "    bucket = np.concatenate([x1, x2])\n",
        "    for k in range(Nperms):\n",
        "        x = np.random.permutation(bucket)\n",
        "        x1perm = x[:N1]\n",
        "        x2perm = x[N1:]\n",
        "        perms[k] = x1perm.mean() - x2perm.mean()\n",
        "    actual = x1.mean() - x2.mean()\n",
        "    p = np.float64((np.abs(perms) > np.abs(actual)).sum()) / Nperms\n",
        "    return p    "
      ],
      "id": "4acdfcd9",
      "execution_count": 4,
      "outputs": []
    },
    {
      "cell_type": "code",
      "metadata": {
        "colab": {
          "base_uri": "https://localhost:8080/"
        },
        "id": "6d2a78fd",
        "outputId": "5cad0e58-ed86-472b-ecaf-427c7438f45c"
      },
      "source": [
        "# Draw two groups of normal measurements, with 20 samples each, but with the same distribution\n",
        "p_val_cutoff = 0.05\n",
        "Nreps = 1000\n",
        "p = np.zeros(Nreps)\n",
        "for k in range(Nreps):\n",
        "    N = 20\n",
        "    x1 = np.random.randn(N)\n",
        "    x2 = np.random.randn(N)\n",
        "    p[k] = permtest(x1, x2, 100)\n",
        "\n",
        "print(f'The proportion of tests with false positives = {(p < p_val_cutoff).sum()/Nreps}')"
      ],
      "id": "6d2a78fd",
      "execution_count": 5,
      "outputs": [
        {
          "output_type": "stream",
          "name": "stdout",
          "text": [
            "The proportion of tests with false positives = 0.05\n"
          ]
        }
      ]
    },
    {
      "cell_type": "code",
      "metadata": {
        "colab": {
          "base_uri": "https://localhost:8080/"
        },
        "id": "62d2197d",
        "outputId": "3c35eba3-f581-4f73-de8e-bbec21434099"
      },
      "source": [
        "# Repeat the same, but with a heavy tailed distribution.\n",
        "# Here, we will use a cauchy distribution\n",
        "\n",
        "p_val_cutoff = 0.05\n",
        "Nreps = 1000\n",
        "p = np.zeros(Nreps)\n",
        "for k in range(Nreps):\n",
        "    N = 20\n",
        "    x1 = stats.cauchy.rvs(0, 1, N)\n",
        "    x2 = stats.cauchy.rvs(0, 1, N)\n",
        "    p[k] = permtest(x1, x2, 100)\n",
        "\n",
        "print(f'The proportion of tests with false positives = {(p < p_val_cutoff).sum()/Nreps}')"
      ],
      "id": "62d2197d",
      "execution_count": 6,
      "outputs": [
        {
          "output_type": "stream",
          "name": "stdout",
          "text": [
            "The proportion of tests with false positives = 0.045\n"
          ]
        }
      ]
    },
    {
      "cell_type": "code",
      "metadata": {
        "id": "a80dc009"
      },
      "source": [
        ""
      ],
      "id": "a80dc009",
      "execution_count": 6,
      "outputs": []
    }
  ]
}