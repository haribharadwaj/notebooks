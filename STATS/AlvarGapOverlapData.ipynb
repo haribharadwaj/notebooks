{
 "cells": [
  {
   "cell_type": "markdown",
   "id": "0fdaa928",
   "metadata": {},
   "source": [
    "# Simple analysis of the relationship between arousal and gap-overlap effects "
   ]
  },
  {
   "cell_type": "code",
   "execution_count": 1,
   "id": "491319c1",
   "metadata": {},
   "outputs": [
    {
     "name": "stderr",
     "output_type": "stream",
     "text": [
      "Loading required package: Matrix\n",
      "Loading required package: carData\n",
      "Registered S3 methods overwritten by 'car':\n",
      "  method                          from\n",
      "  influence.merMod                lme4\n",
      "  cooks.distance.influence.merMod lme4\n",
      "  dfbeta.influence.merMod         lme4\n",
      "  dfbetas.influence.merMod        lme4\n"
     ]
    }
   ],
   "source": [
    "library(lme4)\n",
    "library(car)"
   ]
  },
  {
   "cell_type": "code",
   "execution_count": 2,
   "id": "da3a33f2",
   "metadata": {},
   "outputs": [],
   "source": [
    "dat <- read.csv('~/Desktop/Anny_Exp2_CompleteDataSet.csv', header=TRUE)"
   ]
  },
  {
   "cell_type": "code",
   "execution_count": 3,
   "id": "11e80df5",
   "metadata": {},
   "outputs": [
    {
     "name": "stdout",
     "output_type": "stream",
     "text": [
      "'data.frame':\t8856 obs. of  15 variables:\n",
      " $ Subject  : Factor w/ 41 levels \"Sub04\",\"Sub05\",..: 1 1 1 1 1 1 1 1 1 1 ...\n",
      " $ Task     : Factor w/ 2 levels \"antisaccade\",..: 1 1 1 1 1 1 1 1 1 1 ...\n",
      " $ TrialType: Factor w/ 3 levels \"baseline\",\"gap\",..: 1 1 1 1 1 1 1 1 1 1 ...\n",
      " $ Block    : Factor w/ 3 levels \"first\",\"second\",..: 1 1 1 1 1 1 1 1 1 1 ...\n",
      " $ row_num  : int  1 10 11 12 2 3 4 5 6 7 ...\n",
      " $ RT       : int  402 446 430 430 410 406 452 402 410 386 ...\n",
      " $ Correct  : int  1 1 1 1 1 1 1 1 1 1 ...\n",
      " $ pre_mean : num  13.6 13.6 13.6 13.6 13.6 ...\n",
      " $ post_mean: num  13.6 13.6 13.6 13.5 13.6 ...\n",
      " $ Mean_SCL : num  15.5 15.5 15.5 15.5 15.5 ...\n",
      " $ Max_SCL  : num  19.1 19.1 19.1 19.1 19.1 ...\n",
      " $ Min_SCL  : num  13.6 13.6 13.6 13.6 13.6 ...\n",
      " $ pre_norm : num  0.00155 -0.00794 -0.01022 -0.01323 0.002 ...\n",
      " $ post_norm: num  0.002369 -0.009585 -0.011846 -0.017046 0.000537 ...\n",
      " $ AQ       : int  4 4 4 4 4 4 4 4 4 4 ...\n"
     ]
    }
   ],
   "source": [
    "str(dat)"
   ]
  },
  {
   "cell_type": "code",
   "execution_count": 4,
   "id": "54aeefbf",
   "metadata": {},
   "outputs": [],
   "source": [
    "m <- lmer(RT ~ TrialType*pre_norm*Task + (1|Subject), data=dat)"
   ]
  },
  {
   "cell_type": "code",
   "execution_count": 5,
   "id": "22856c1a",
   "metadata": {},
   "outputs": [],
   "source": [
    "library(pbkrtest)"
   ]
  },
  {
   "cell_type": "code",
   "execution_count": 8,
   "id": "441dbd28",
   "metadata": {},
   "outputs": [],
   "source": [
    "m0 <- lmer(RT ~ (TrialType + pre_norm)*Task + (1|Subject), data=dat)"
   ]
  },
  {
   "cell_type": "code",
   "execution_count": 9,
   "id": "e0c073c7",
   "metadata": {},
   "outputs": [
    {
     "data": {
      "text/plain": [
       "F-test with Kenward-Roger approximation; computing time: 47.85 sec.\n",
       "large : RT ~ TrialType * pre_norm * Task + (1 | Subject)\n",
       "small : RT ~ (TrialType + pre_norm) * Task + (1 | Subject)\n",
       "           stat       ndf       ddf F.scaling   p.value    \n",
       "Ftest    9.2939    4.0000 8574.6745         1 1.718e-07 ***\n",
       "---\n",
       "Signif. codes:  0 ‘***’ 0.001 ‘**’ 0.01 ‘*’ 0.05 ‘.’ 0.1 ‘ ’ 1"
      ]
     },
     "metadata": {},
     "output_type": "display_data"
    }
   ],
   "source": [
    "KRmodcomp(m, m0)"
   ]
  },
  {
   "cell_type": "code",
   "execution_count": 10,
   "id": "9e9a6f90",
   "metadata": {},
   "outputs": [],
   "source": [
    "m1 <- lmer(RT ~ TrialType*pre_norm + (1|Subject), data=dat)"
   ]
  },
  {
   "cell_type": "code",
   "execution_count": 11,
   "id": "3d79cbb3",
   "metadata": {},
   "outputs": [
    {
     "data": {
      "text/plain": [
       "F-test with Kenward-Roger approximation; computing time: 46.10 sec.\n",
       "large : RT ~ TrialType * pre_norm * Task + (1 | Subject)\n",
       "small : RT ~ TrialType * pre_norm + (1 | Subject)\n",
       "           stat       ndf       ddf F.scaling p.value\n",
       "Ftest    0.0339    6.0000 8557.0333         1  0.9998"
      ]
     },
     "metadata": {},
     "output_type": "display_data"
    }
   ],
   "source": [
    "KRmodcomp(m, m1)"
   ]
  },
  {
   "cell_type": "code",
   "execution_count": 13,
   "id": "af9f6120",
   "metadata": {},
   "outputs": [],
   "source": [
    "m2 <- lmer(RT ~ TrialType*pre_norm + Task*pre_norm + (1|Subject), data=dat)"
   ]
  },
  {
   "cell_type": "code",
   "execution_count": 14,
   "id": "e866de92",
   "metadata": {},
   "outputs": [
    {
     "data": {
      "text/plain": [
       "F-test with Kenward-Roger approximation; computing time: 45.85 sec.\n",
       "large : RT ~ TrialType * pre_norm * Task + (1 | Subject)\n",
       "small : RT ~ TrialType * pre_norm + Task * pre_norm + (1 | Subject)\n",
       "           stat       ndf       ddf F.scaling p.value\n",
       "Ftest    0.0397    4.0000 8574.3572         1   0.997"
      ]
     },
     "metadata": {},
     "output_type": "display_data"
    }
   ],
   "source": [
    "KRmodcomp(m, m2)"
   ]
  },
  {
   "cell_type": "code",
   "execution_count": 15,
   "id": "bb2fb04d",
   "metadata": {},
   "outputs": [
    {
     "data": {
      "text/html": [
       "<table>\n",
       "<thead><tr><th></th><th scope=col>F</th><th scope=col>Df</th><th scope=col>Df.res</th><th scope=col>Pr(&gt;F)</th></tr></thead>\n",
       "<tbody>\n",
       "\t<tr><th scope=row>TrialType</th><td>2.275024e+02</td><td>2           </td><td>8575.4673   </td><td>5.357712e-97</td></tr>\n",
       "\t<tr><th scope=row>pre_norm</th><td>2.686114e-01</td><td>1           </td><td> 392.0816   </td><td>6.045571e-01</td></tr>\n",
       "\t<tr><th scope=row>Task</th><td>2.685529e-03</td><td>1           </td><td>8613.8101   </td><td>9.586717e-01</td></tr>\n",
       "\t<tr><th scope=row>TrialType:pre_norm</th><td>1.852548e+01</td><td>2           </td><td>8575.0857   </td><td>9.371712e-09</td></tr>\n",
       "\t<tr><th scope=row>TrialType:Task</th><td>1.715451e-02</td><td>2           </td><td>8574.4531   </td><td>9.829918e-01</td></tr>\n",
       "\t<tr><th scope=row>pre_norm:Task</th><td>4.176291e-02</td><td>1           </td><td>7913.7676   </td><td>8.380776e-01</td></tr>\n",
       "\t<tr><th scope=row>TrialType:pre_norm:Task</th><td>6.229034e-02</td><td>2           </td><td>8574.2613   </td><td>9.396105e-01</td></tr>\n",
       "</tbody>\n",
       "</table>\n"
      ],
      "text/latex": [
       "\\begin{tabular}{r|llll}\n",
       "  & F & Df & Df.res & Pr(>F)\\\\\n",
       "\\hline\n",
       "\tTrialType & 2.275024e+02 & 2            & 8575.4673    & 5.357712e-97\\\\\n",
       "\tpre\\_norm & 2.686114e-01 & 1            &  392.0816    & 6.045571e-01\\\\\n",
       "\tTask & 2.685529e-03 & 1            & 8613.8101    & 9.586717e-01\\\\\n",
       "\tTrialType:pre\\_norm & 1.852548e+01 & 2            & 8575.0857    & 9.371712e-09\\\\\n",
       "\tTrialType:Task & 1.715451e-02 & 2            & 8574.4531    & 9.829918e-01\\\\\n",
       "\tpre\\_norm:Task & 4.176291e-02 & 1            & 7913.7676    & 8.380776e-01\\\\\n",
       "\tTrialType:pre\\_norm:Task & 6.229034e-02 & 2            & 8574.2613    & 9.396105e-01\\\\\n",
       "\\end{tabular}\n"
      ],
      "text/markdown": [
       "\n",
       "| <!--/--> | F | Df | Df.res | Pr(>F) |\n",
       "|---|---|---|---|---|\n",
       "| TrialType | 2.275024e+02 | 2            | 8575.4673    | 5.357712e-97 |\n",
       "| pre_norm | 2.686114e-01 | 1            |  392.0816    | 6.045571e-01 |\n",
       "| Task | 2.685529e-03 | 1            | 8613.8101    | 9.586717e-01 |\n",
       "| TrialType:pre_norm | 1.852548e+01 | 2            | 8575.0857    | 9.371712e-09 |\n",
       "| TrialType:Task | 1.715451e-02 | 2            | 8574.4531    | 9.829918e-01 |\n",
       "| pre_norm:Task | 4.176291e-02 | 1            | 7913.7676    | 8.380776e-01 |\n",
       "| TrialType:pre_norm:Task | 6.229034e-02 | 2            | 8574.2613    | 9.396105e-01 |\n",
       "\n"
      ],
      "text/plain": [
       "                        F            Df Df.res    Pr(>F)      \n",
       "TrialType               2.275024e+02 2  8575.4673 5.357712e-97\n",
       "pre_norm                2.686114e-01 1   392.0816 6.045571e-01\n",
       "Task                    2.685529e-03 1  8613.8101 9.586717e-01\n",
       "TrialType:pre_norm      1.852548e+01 2  8575.0857 9.371712e-09\n",
       "TrialType:Task          1.715451e-02 2  8574.4531 9.829918e-01\n",
       "pre_norm:Task           4.176291e-02 1  7913.7676 8.380776e-01\n",
       "TrialType:pre_norm:Task 6.229034e-02 2  8574.2613 9.396105e-01"
      ]
     },
     "metadata": {},
     "output_type": "display_data"
    }
   ],
   "source": [
    "Anova(m, test.statistic='F')"
   ]
  },
  {
   "cell_type": "code",
   "execution_count": 16,
   "id": "ea03ed80",
   "metadata": {},
   "outputs": [],
   "source": [
    "m_reduced_gapEffect <- lmer(RT ~ TrialType*pre_norm + (1|Subject), data=dat[dat$TrialType != 'overlap',])"
   ]
  },
  {
   "cell_type": "code",
   "execution_count": 17,
   "id": "26b6928b",
   "metadata": {},
   "outputs": [
    {
     "data": {
      "text/html": [
       "<table>\n",
       "<thead><tr><th></th><th scope=col>F</th><th scope=col>Df</th><th scope=col>Df.res</th><th scope=col>Pr(&gt;F)</th></tr></thead>\n",
       "<tbody>\n",
       "\t<tr><th scope=row>TrialType</th><td>405.9171250 </td><td>1           </td><td>5694.3220   </td><td>2.935651e-87</td></tr>\n",
       "\t<tr><th scope=row>pre_norm</th><td>  0.4638366 </td><td>1           </td><td> 225.8263   </td><td>4.965341e-01</td></tr>\n",
       "\t<tr><th scope=row>TrialType:pre_norm</th><td> 38.2396500 </td><td>1           </td><td>5694.7677   </td><td>6.691831e-10</td></tr>\n",
       "</tbody>\n",
       "</table>\n"
      ],
      "text/latex": [
       "\\begin{tabular}{r|llll}\n",
       "  & F & Df & Df.res & Pr(>F)\\\\\n",
       "\\hline\n",
       "\tTrialType & 405.9171250  & 1            & 5694.3220    & 2.935651e-87\\\\\n",
       "\tpre\\_norm &   0.4638366  & 1            &  225.8263    & 4.965341e-01\\\\\n",
       "\tTrialType:pre\\_norm &  38.2396500  & 1            & 5694.7677    & 6.691831e-10\\\\\n",
       "\\end{tabular}\n"
      ],
      "text/markdown": [
       "\n",
       "| <!--/--> | F | Df | Df.res | Pr(>F) |\n",
       "|---|---|---|---|---|\n",
       "| TrialType | 405.9171250  | 1            | 5694.3220    | 2.935651e-87 |\n",
       "| pre_norm |   0.4638366  | 1            |  225.8263    | 4.965341e-01 |\n",
       "| TrialType:pre_norm |  38.2396500  | 1            | 5694.7677    | 6.691831e-10 |\n",
       "\n"
      ],
      "text/plain": [
       "                   F           Df Df.res    Pr(>F)      \n",
       "TrialType          405.9171250 1  5694.3220 2.935651e-87\n",
       "pre_norm             0.4638366 1   225.8263 4.965341e-01\n",
       "TrialType:pre_norm  38.2396500 1  5694.7677 6.691831e-10"
      ]
     },
     "metadata": {},
     "output_type": "display_data"
    }
   ],
   "source": [
    "Anova(m_reduced_gapEffect, test.statistic='F')"
   ]
  },
  {
   "cell_type": "code",
   "execution_count": 18,
   "id": "c2f7716b",
   "metadata": {},
   "outputs": [],
   "source": [
    "m_reduced_gapEffect_correct <- lmer(RT ~ TrialType*pre_norm + (1|Subject), data=dat[dat$TrialType != 'overlap' & dat$Correct == 1,])"
   ]
  },
  {
   "cell_type": "code",
   "execution_count": 19,
   "id": "fc36cc4b",
   "metadata": {},
   "outputs": [
    {
     "data": {
      "text/html": [
       "<table>\n",
       "<thead><tr><th></th><th scope=col>F</th><th scope=col>Df</th><th scope=col>Df.res</th><th scope=col>Pr(&gt;F)</th></tr></thead>\n",
       "<tbody>\n",
       "\t<tr><th scope=row>TrialType</th><td>452.06408434</td><td>1           </td><td>5688.2706   </td><td>1.352486e-96</td></tr>\n",
       "\t<tr><th scope=row>pre_norm</th><td>  0.08587601</td><td>1           </td><td> 270.5516   </td><td>7.697116e-01</td></tr>\n",
       "\t<tr><th scope=row>TrialType:pre_norm</th><td> 23.55441917</td><td>1           </td><td>5688.5184   </td><td>1.246723e-06</td></tr>\n",
       "</tbody>\n",
       "</table>\n"
      ],
      "text/latex": [
       "\\begin{tabular}{r|llll}\n",
       "  & F & Df & Df.res & Pr(>F)\\\\\n",
       "\\hline\n",
       "\tTrialType & 452.06408434 & 1            & 5688.2706    & 1.352486e-96\\\\\n",
       "\tpre\\_norm &   0.08587601 & 1            &  270.5516    & 7.697116e-01\\\\\n",
       "\tTrialType:pre\\_norm &  23.55441917 & 1            & 5688.5184    & 1.246723e-06\\\\\n",
       "\\end{tabular}\n"
      ],
      "text/markdown": [
       "\n",
       "| <!--/--> | F | Df | Df.res | Pr(>F) |\n",
       "|---|---|---|---|---|\n",
       "| TrialType | 452.06408434 | 1            | 5688.2706    | 1.352486e-96 |\n",
       "| pre_norm |   0.08587601 | 1            |  270.5516    | 7.697116e-01 |\n",
       "| TrialType:pre_norm |  23.55441917 | 1            | 5688.5184    | 1.246723e-06 |\n",
       "\n"
      ],
      "text/plain": [
       "                   F            Df Df.res    Pr(>F)      \n",
       "TrialType          452.06408434 1  5688.2706 1.352486e-96\n",
       "pre_norm             0.08587601 1   270.5516 7.697116e-01\n",
       "TrialType:pre_norm  23.55441917 1  5688.5184 1.246723e-06"
      ]
     },
     "metadata": {},
     "output_type": "display_data"
    }
   ],
   "source": [
    "Anova(m_reduced_gapEffect_correct, test.statistic='F')"
   ]
  },
  {
   "cell_type": "code",
   "execution_count": null,
   "id": "c303c224",
   "metadata": {},
   "outputs": [],
   "source": []
  }
 ],
 "metadata": {
  "kernelspec": {
   "display_name": "R",
   "language": "R",
   "name": "ir"
  },
  "language_info": {
   "codemirror_mode": "r",
   "file_extension": ".r",
   "mimetype": "text/x-r-source",
   "name": "R",
   "pygments_lexer": "r",
   "version": "3.6.1"
  }
 },
 "nbformat": 4,
 "nbformat_minor": 5
}
