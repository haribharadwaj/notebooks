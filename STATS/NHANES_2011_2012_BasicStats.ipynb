{
 "cells": [
  {
   "cell_type": "markdown",
   "id": "aaf8b05a",
   "metadata": {},
   "source": [
    "# NHANES analysis\n",
    "\n",
    "Load and examine structure of data"
   ]
  },
  {
   "cell_type": "code",
   "execution_count": 1,
   "id": "e8b494dc",
   "metadata": {},
   "outputs": [],
   "source": [
    "dat <- read.csv('/Users/hari/Dropbox/ManuscriptsPosters/NHANESdata/NHANES2012Data/NHANES_2011_2012.csv', header=TRUE)"
   ]
  },
  {
   "cell_type": "markdown",
   "id": "76c333df",
   "metadata": {},
   "source": [
    "The function str will print out the structure of the dataset"
   ]
  },
  {
   "cell_type": "code",
   "execution_count": 2,
   "id": "eea69050",
   "metadata": {},
   "outputs": [
    {
     "name": "stdout",
     "output_type": "stream",
     "text": [
      "'data.frame':\t3817 obs. of  3 variables:\n",
      " $ age  : int  22 44 43 34 51 55 35 26 57 42 ...\n",
      " $ aud8k: num  52.5 32.5 12.5 17.5 40 25 10 5 22.5 15 ...\n",
      " $ zmemr: num  0.326 38.557 10.298 18.252 2.11 ...\n"
     ]
    }
   ],
   "source": [
    "str(dat)"
   ]
  },
  {
   "cell_type": "markdown",
   "id": "9e1b2717",
   "metadata": {},
   "source": [
    "## Make categorical bins of age and audiogram\n",
    "\n",
    "For age, let's do 10-year bins.\n",
    "For audiogram, let's do normal, mild, moderate, severe\n",
    "\n",
    "These choices can be changed as needed."
   ]
  },
  {
   "cell_type": "code",
   "execution_count": 3,
   "id": "9bab2e26",
   "metadata": {},
   "outputs": [],
   "source": [
    "dat$decade <- as.factor(round((dat$age)/10))"
   ]
  },
  {
   "cell_type": "code",
   "execution_count": 4,
   "id": "61f40bc1",
   "metadata": {},
   "outputs": [
    {
     "name": "stdout",
     "output_type": "stream",
     "text": [
      "'data.frame':\t3817 obs. of  4 variables:\n",
      " $ age   : int  22 44 43 34 51 55 35 26 57 42 ...\n",
      " $ aud8k : num  52.5 32.5 12.5 17.5 40 25 10 5 22.5 15 ...\n",
      " $ zmemr : num  0.326 38.557 10.298 18.252 2.11 ...\n",
      " $ decade: Factor w/ 6 levels \"2\",\"3\",\"4\",\"5\",..: 1 3 3 2 4 5 3 2 5 3 ...\n"
     ]
    }
   ],
   "source": [
    "str(dat)"
   ]
  },
  {
   "cell_type": "code",
   "execution_count": 5,
   "id": "a474e63c",
   "metadata": {},
   "outputs": [],
   "source": [
    "levels(dat$decade) <- c('18-24', '25-34', '35-44', '45-54', '55-64', '>=65')"
   ]
  },
  {
   "cell_type": "code",
   "execution_count": 6,
   "id": "eeb24f01",
   "metadata": {},
   "outputs": [
    {
     "name": "stdout",
     "output_type": "stream",
     "text": [
      "'data.frame':\t3817 obs. of  4 variables:\n",
      " $ age   : int  22 44 43 34 51 55 35 26 57 42 ...\n",
      " $ aud8k : num  52.5 32.5 12.5 17.5 40 25 10 5 22.5 15 ...\n",
      " $ zmemr : num  0.326 38.557 10.298 18.252 2.11 ...\n",
      " $ decade: Factor w/ 6 levels \"18-24\",\"25-34\",..: 1 3 3 2 4 5 3 2 5 3 ...\n"
     ]
    }
   ],
   "source": [
    "str(dat)"
   ]
  },
  {
   "cell_type": "code",
   "execution_count": 7,
   "id": "7c9dcfd2",
   "metadata": {},
   "outputs": [],
   "source": [
    "dat$HLdegree <- dat$aud8k"
   ]
  },
  {
   "cell_type": "code",
   "execution_count": 8,
   "id": "8841c03c",
   "metadata": {},
   "outputs": [],
   "source": [
    "dat$HLdegree[dat$aud8k <= 20] <- 0"
   ]
  },
  {
   "cell_type": "code",
   "execution_count": 9,
   "id": "8c64e4bd",
   "metadata": {},
   "outputs": [],
   "source": [
    "dat$HLdegree[dat$aud8k > 20 & dat$aud8k <= 40] <- 1"
   ]
  },
  {
   "cell_type": "code",
   "execution_count": 10,
   "id": "fe7a3388",
   "metadata": {},
   "outputs": [],
   "source": [
    "dat$HLdegree[dat$aud8k > 40 & dat$aud8k <= 60] <- 2"
   ]
  },
  {
   "cell_type": "code",
   "execution_count": 11,
   "id": "66acd250",
   "metadata": {},
   "outputs": [],
   "source": [
    "dat$HLdegree[dat$aud8k > 60] <- 3"
   ]
  },
  {
   "cell_type": "code",
   "execution_count": 12,
   "id": "a550f52c",
   "metadata": {},
   "outputs": [],
   "source": [
    "dat$HLdegree <- as.factor(dat$HLdegree)"
   ]
  },
  {
   "cell_type": "code",
   "execution_count": 13,
   "id": "03ce1294",
   "metadata": {},
   "outputs": [],
   "source": [
    "levels(dat$HLdegree) <- c('Normal', 'Mild', 'Moderate', 'Severe')"
   ]
  },
  {
   "cell_type": "code",
   "execution_count": 14,
   "id": "3ae8464c",
   "metadata": {},
   "outputs": [
    {
     "name": "stdout",
     "output_type": "stream",
     "text": [
      "'data.frame':\t3817 obs. of  5 variables:\n",
      " $ age     : int  22 44 43 34 51 55 35 26 57 42 ...\n",
      " $ aud8k   : num  52.5 32.5 12.5 17.5 40 25 10 5 22.5 15 ...\n",
      " $ zmemr   : num  0.326 38.557 10.298 18.252 2.11 ...\n",
      " $ decade  : Factor w/ 6 levels \"18-24\",\"25-34\",..: 1 3 3 2 4 5 3 2 5 3 ...\n",
      " $ HLdegree: Factor w/ 4 levels \"Normal\",\"Mild\",..: 3 2 1 1 2 2 1 1 2 1 ...\n"
     ]
    }
   ],
   "source": [
    "str(dat)"
   ]
  },
  {
   "cell_type": "markdown",
   "id": "94c27d36",
   "metadata": {},
   "source": [
    "## Analyze using a linear model, but with categorical predictors only\n",
    "\n",
    "Using categorical predictors allows the dependence to be non-linear, in that the main effect of each predictor would be estimated by considering each category of the other predictor"
   ]
  },
  {
   "cell_type": "code",
   "execution_count": 15,
   "id": "884e2a37",
   "metadata": {},
   "outputs": [],
   "source": [
    "m <- lm(zmemr ~ decade*HLdegree, data=dat)"
   ]
  },
  {
   "cell_type": "code",
   "execution_count": 16,
   "id": "c92ed8c8",
   "metadata": {},
   "outputs": [
    {
     "name": "stderr",
     "output_type": "stream",
     "text": [
      "Loading required package: carData\n"
     ]
    }
   ],
   "source": [
    "library(car)"
   ]
  },
  {
   "cell_type": "code",
   "execution_count": 17,
   "id": "6d4ea09f",
   "metadata": {},
   "outputs": [
    {
     "data": {
      "text/html": [
       "<table>\n",
       "<thead><tr><th></th><th scope=col>Sum Sq</th><th scope=col>Df</th><th scope=col>F value</th><th scope=col>Pr(&gt;F)</th></tr></thead>\n",
       "<tbody>\n",
       "\t<tr><th scope=row>decade</th><td>  6625.2172 </td><td>   5        </td><td>22.28474    </td><td>4.451436e-22</td></tr>\n",
       "\t<tr><th scope=row>HLdegree</th><td>  3004.1696 </td><td>   3        </td><td>16.84150    </td><td>7.275714e-11</td></tr>\n",
       "\t<tr><th scope=row>decade:HLdegree</th><td>   938.5945 </td><td>  15        </td><td> 1.05236    </td><td>3.968560e-01</td></tr>\n",
       "\t<tr><th scope=row>Residuals</th><td>220892.6501 </td><td>3715        </td><td>      NA    </td><td>          NA</td></tr>\n",
       "</tbody>\n",
       "</table>\n"
      ],
      "text/latex": [
       "\\begin{tabular}{r|llll}\n",
       "  & Sum Sq & Df & F value & Pr(>F)\\\\\n",
       "\\hline\n",
       "\tdecade &   6625.2172  &    5         & 22.28474     & 4.451436e-22\\\\\n",
       "\tHLdegree &   3004.1696  &    3         & 16.84150     & 7.275714e-11\\\\\n",
       "\tdecade:HLdegree &    938.5945  &   15         &  1.05236     & 3.968560e-01\\\\\n",
       "\tResiduals & 220892.6501  & 3715         &       NA     &           NA\\\\\n",
       "\\end{tabular}\n"
      ],
      "text/markdown": [
       "\n",
       "| <!--/--> | Sum Sq | Df | F value | Pr(>F) |\n",
       "|---|---|---|---|---|\n",
       "| decade |   6625.2172  |    5         | 22.28474     | 4.451436e-22 |\n",
       "| HLdegree |   3004.1696  |    3         | 16.84150     | 7.275714e-11 |\n",
       "| decade:HLdegree |    938.5945  |   15         |  1.05236     | 3.968560e-01 |\n",
       "| Residuals | 220892.6501  | 3715         |       NA     |           NA |\n",
       "\n"
      ],
      "text/plain": [
       "                Sum Sq      Df   F value  Pr(>F)      \n",
       "decade            6625.2172    5 22.28474 4.451436e-22\n",
       "HLdegree          3004.1696    3 16.84150 7.275714e-11\n",
       "decade:HLdegree    938.5945   15  1.05236 3.968560e-01\n",
       "Residuals       220892.6501 3715       NA           NA"
      ]
     },
     "metadata": {},
     "output_type": "display_data"
    }
   ],
   "source": [
    "Anova(m)"
   ]
  },
  {
   "cell_type": "markdown",
   "id": "320c25aa",
   "metadata": {},
   "source": [
    "## Make bin-by-bin analysis more explicit\n",
    "\n",
    "Choose just one level of a particular predictor, and then run stats on the other."
   ]
  },
  {
   "cell_type": "code",
   "execution_count": 18,
   "id": "9e5a2cf2",
   "metadata": {},
   "outputs": [
    {
     "data": {
      "text/html": [
       "'/Users/hari/Dropbox/ManuscriptsPosters/NHANESdata/NHANES2012Data'"
      ],
      "text/latex": [
       "'/Users/hari/Dropbox/ManuscriptsPosters/NHANESdata/NHANES2012Data'"
      ],
      "text/markdown": [
       "'/Users/hari/Dropbox/ManuscriptsPosters/NHANESdata/NHANES2012Data'"
      ],
      "text/plain": [
       "[1] \"/Users/hari/Dropbox/ManuscriptsPosters/NHANESdata/NHANES2012Data\""
      ]
     },
     "metadata": {},
     "output_type": "display_data"
    }
   ],
   "source": [
    "getwd()"
   ]
  },
  {
   "cell_type": "code",
   "execution_count": null,
   "id": "41c5d1d3",
   "metadata": {},
   "outputs": [],
   "source": []
  }
 ],
 "metadata": {
  "kernelspec": {
   "display_name": "R",
   "language": "R",
   "name": "ir"
  },
  "language_info": {
   "codemirror_mode": "r",
   "file_extension": ".r",
   "mimetype": "text/x-r-source",
   "name": "R",
   "pygments_lexer": "r",
   "version": "3.6.1"
  }
 },
 "nbformat": 4,
 "nbformat_minor": 5
}
